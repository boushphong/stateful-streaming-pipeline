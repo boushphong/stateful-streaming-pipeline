{
 "cells": [
  {
   "cell_type": "code",
   "execution_count": 1,
   "metadata": {},
   "outputs": [
    {
     "data": {
      "text/plain": [
       "\u001b[32mimport \u001b[39m\u001b[36m$ivy.$                                     \n",
       "\u001b[39m\n",
       "\u001b[32mimport \u001b[39m\u001b[36m$ivy.$                                               \n",
       "\u001b[39m\n",
       "\u001b[32mimport \u001b[39m\u001b[36m$ivy.$                                       \n",
       "\u001b[39m\n",
       "\u001b[32mimport \u001b[39m\u001b[36m$ivy.$                                               \u001b[39m"
      ]
     },
     "execution_count": 1,
     "metadata": {},
     "output_type": "execute_result"
    }
   ],
   "source": [
    "import $ivy.`org.apache.flink::flink-scala:1.15.1`\n",
    "import $ivy.`org.apache.flink::flink-streaming-scala:1.15.1`\n",
    "import $ivy.`org.apache.flink::flink-clients:1.14.5`\n",
    "import $ivy.`org.apache.flink::flink-connector-kafka:1.14.5`"
   ]
  },
  {
   "cell_type": "code",
   "execution_count": 2,
   "metadata": {},
   "outputs": [
    {
     "data": {
      "text/plain": [
       "\u001b[32mimport \u001b[39m\u001b[36m$ivy.$                                          \n",
       "\u001b[39m\n",
       "\u001b[32mimport \u001b[39m\u001b[36m$ivy.$                                           \u001b[39m"
      ]
     },
     "execution_count": 2,
     "metadata": {},
     "output_type": "execute_result"
    }
   ],
   "source": [
    "import $ivy.`org.apache.logging.log4j:log4j-api:2.18.0`\n",
    "import $ivy.`org.apache.logging.log4j:log4j-core:2.18.0`"
   ]
  },
  {
   "cell_type": "code",
   "execution_count": 3,
   "metadata": {},
   "outputs": [
    {
     "data": {
      "text/plain": [
       "\u001b[32mimport \u001b[39m\u001b[36morg.apache.logging.log4j.{Level, Logger}\n",
       "\u001b[39m\n",
       "\u001b[32mimport \u001b[39m\u001b[36morg.apache.flink.api.common.serialization.{DeserializationSchema, SerializationSchema}\n",
       "\u001b[39m\n",
       "\u001b[32mimport \u001b[39m\u001b[36morg.apache.flink.api.common.typeinfo.TypeInformation\n",
       "\u001b[39m\n",
       "\u001b[32mimport \u001b[39m\u001b[36morg.apache.flink.api.scala._\n",
       "\u001b[39m\n",
       "\u001b[32mimport \u001b[39m\u001b[36morg.apache.flink.api.common.state.{AggregatingState, MapState, ValueState, ValueStateDescriptor}\n",
       "\u001b[39m\n",
       "\u001b[32mimport \u001b[39m\u001b[36morg.apache.flink.configuration.Configuration\n",
       "\u001b[39m\n",
       "\u001b[32mimport \u001b[39m\u001b[36morg.apache.flink.streaming.api.functions.KeyedProcessFunction\n",
       "\u001b[39m\n",
       "\u001b[32mimport \u001b[39m\u001b[36morg.apache.flink.util.Collector\n",
       "\u001b[39m\n",
       "\u001b[32mimport \u001b[39m\u001b[36morg.apache.flink.api.common.eventtime.WatermarkStrategy\n",
       "\u001b[39m\n",
       "\u001b[32mimport \u001b[39m\u001b[36morg.apache.flink.api.scala._\n",
       "\u001b[39m\n",
       "\u001b[32mimport \u001b[39m\u001b[36morg.apache.flink.connector.kafka.sink.{KafkaRecordSerializationSchema, KafkaSink}\n",
       "\u001b[39m\n",
       "\u001b[32mimport \u001b[39m\u001b[36morg.apache.flink.connector.kafka.source.KafkaSource\n",
       "\u001b[39m\n",
       "\u001b[32mimport \u001b[39m\u001b[36morg.apache.flink.connector.kafka.source.enumerator.initializer.OffsetsInitializer\n",
       "\u001b[39m\n",
       "\u001b[32mimport \u001b[39m\u001b[36morg.apache.flink.streaming.api.scala.{DataStream, StreamExecutionEnvironment}\u001b[39m"
      ]
     },
     "execution_count": 3,
     "metadata": {},
     "output_type": "execute_result"
    }
   ],
   "source": [
    "import org.apache.logging.log4j.{Level, Logger}\n",
    "import org.apache.flink.api.common.serialization.{DeserializationSchema, SerializationSchema}\n",
    "import org.apache.flink.api.common.typeinfo.TypeInformation\n",
    "import org.apache.flink.api.scala._\n",
    "import org.apache.flink.api.common.state.{AggregatingState, MapState, ValueState, ValueStateDescriptor}\n",
    "import org.apache.flink.configuration.Configuration\n",
    "import org.apache.flink.streaming.api.functions.KeyedProcessFunction\n",
    "import org.apache.flink.util.Collector\n",
    "import org.apache.flink.api.common.eventtime.WatermarkStrategy\n",
    "import org.apache.flink.api.scala._\n",
    "import org.apache.flink.connector.kafka.sink.{KafkaRecordSerializationSchema, KafkaSink}\n",
    "import org.apache.flink.connector.kafka.source.KafkaSource\n",
    "import org.apache.flink.connector.kafka.source.enumerator.initializer.OffsetsInitializer\n",
    "import org.apache.flink.streaming.api.scala.{DataStream, StreamExecutionEnvironment}"
   ]
  },
  {
   "cell_type": "code",
   "execution_count": 4,
   "metadata": {},
   "outputs": [
    {
     "data": {
      "text/plain": [
       "defined \u001b[32mobject\u001b[39m \u001b[36mTransaction\u001b[39m"
      ]
     },
     "execution_count": 4,
     "metadata": {},
     "output_type": "execute_result"
    }
   ],
   "source": [
    "object Transaction {\n",
    "\n",
    "  case class Transaction(id: Int, amount: Int, transaction_type: String)\n",
    "\n",
    "  // Deserialize Value from Source\n",
    "  class TransactionValueDeserializer extends DeserializationSchema[Transaction] {\n",
    "    override def deserialize(messageAsByte: Array[Byte]): Transaction = {\n",
    "      val message: String = new String(messageAsByte)\n",
    "      val tokens: Array[String] = message.split(\",\")\n",
    "      val id: Int = tokens(0).toInt\n",
    "      val amount: Int = tokens(1).toInt\n",
    "      val transaction_type: String = tokens(2)\n",
    "      Transaction(id, amount, transaction_type)\n",
    "    }\n",
    "\n",
    "    override def isEndOfStream(nextElement: Transaction): Boolean = false\n",
    "\n",
    "    override def getProducedType: TypeInformation[Transaction] = implicitly[TypeInformation[Transaction]]\n",
    "  }\n",
    "\n",
    "  // Serialize Key to Sink\n",
    "  class TransactionKeySerializer extends SerializationSchema[Transaction] {\n",
    "    override def serialize(key: Transaction): Array[Byte] =\n",
    "      s\"${key.id}\".getBytes()\n",
    "  }\n",
    "\n",
    "  // Serialize Value to Sink\n",
    "  class TransactionValueSerializer extends SerializationSchema[Transaction] {\n",
    "    override def serialize(transaction: Transaction): Array[Byte] =\n",
    "      s\"${transaction.id},${transaction.amount},${transaction.transaction_type}\".getBytes(\"UTF-8\")\n",
    "  }\n",
    "}"
   ]
  },
  {
   "cell_type": "code",
   "execution_count": 5,
   "metadata": {},
   "outputs": [
    {
     "data": {
      "text/plain": [
       "\u001b[32mimport \u001b[39m\u001b[36mTransaction._\u001b[39m"
      ]
     },
     "execution_count": 5,
     "metadata": {},
     "output_type": "execute_result"
    }
   ],
   "source": [
    "import Transaction._"
   ]
  },
  {
   "cell_type": "code",
   "execution_count": 6,
   "metadata": {},
   "outputs": [
    {
     "data": {
      "text/plain": [
       "defined \u001b[32mclass\u001b[39m \u001b[36mFraudProcessor\u001b[39m"
      ]
     },
     "execution_count": 6,
     "metadata": {},
     "output_type": "execute_result"
    }
   ],
   "source": [
    "class FraudProcessor extends KeyedProcessFunction[Int, Transaction, Transaction] {\n",
    "  var stateIDMapping: MapState[String, Any] = _\n",
    "  var countValue: ValueState[Long] = _\n",
    "  var aggAvg: AggregatingState[Int, Double] = _\n",
    "\n",
    "\n",
    "  @throws[Exception]\n",
    "  override def open(parameters: Configuration): Unit = {\n",
    "    countValue = getRuntimeContext.getState(\n",
    "      new ValueStateDescriptor[Long](\"events-counter\", classOf[Long])\n",
    "    )\n",
    "  }\n",
    "\n",
    "  // Logic for each Key\n",
    "  override def processElement(transaction: Transaction,\n",
    "                              ctx: KeyedProcessFunction[Int, Transaction, Transaction]#Context,\n",
    "                              out: Collector[Transaction]): Unit = {\n",
    "\n",
    "    // Handle the State here\n",
    "    val nEventsForThisUserID = countValue.value()\n",
    "    countValue.update(nEventsForThisUserID + 1)\n",
    "\n",
    "    println(s\"${transaction.id} with Count ${countValue.value()}\")\n",
    "\n",
    "    out.collect(transaction)\n",
    "  }\n",
    "}"
   ]
  },
  {
   "cell_type": "code",
   "execution_count": 7,
   "metadata": {},
   "outputs": [
    {
     "name": "stderr",
     "output_type": "stream",
     "text": [
      "SLF4J: Failed to load class \"org.slf4j.impl.StaticLoggerBinder\".\n",
      "SLF4J: Defaulting to no-operation (NOP) logger implementation\n",
      "SLF4J: See http://www.slf4j.org/codes.html#StaticLoggerBinder for further details.\n"
     ]
    },
    {
     "data": {
      "text/plain": [
       "\u001b[36menv\u001b[39m: \u001b[32mStreamExecutionEnvironment\u001b[39m = org.apache.flink.streaming.api.scala.StreamExecutionEnvironment@331e7973"
      ]
     },
     "execution_count": 7,
     "metadata": {},
     "output_type": "execute_result"
    }
   ],
   "source": [
    "val env: StreamExecutionEnvironment = StreamExecutionEnvironment.getExecutionEnvironment"
   ]
  },
  {
   "cell_type": "code",
   "execution_count": 8,
   "metadata": {},
   "outputs": [
    {
     "data": {
      "text/plain": [
       "\u001b[36mkafkaSink\u001b[39m: \u001b[32mKafkaSink\u001b[39m[\u001b[32mTransaction\u001b[39m] = org.apache.flink.connector.kafka.sink.KafkaSink@e92149a"
      ]
     },
     "execution_count": 8,
     "metadata": {},
     "output_type": "execute_result"
    }
   ],
   "source": [
    "// Sink\n",
    "val kafkaSink: KafkaSink[Transaction] = KafkaSink.builder[Transaction]()\n",
    "  .setBootstrapServers(\"localhost:9092\")\n",
    "  .setRecordSerializer(KafkaRecordSerializationSchema.builder()\n",
    "    .setTopic(\"potential_fraud_transactions\")\n",
    "    .setValueSerializationSchema(new TransactionValueSerializer)\n",
    "    .setKeySerializationSchema(new TransactionKeySerializer).build()\n",
    "  ).build()"
   ]
  },
  {
   "cell_type": "code",
   "execution_count": 9,
   "metadata": {},
   "outputs": [
    {
     "data": {
      "text/plain": [
       "\u001b[36mkafkaSource\u001b[39m: \u001b[32mKafkaSource\u001b[39m[\u001b[32mTransaction\u001b[39m] = org.apache.flink.connector.kafka.source.KafkaSource@2aca9a1b"
      ]
     },
     "execution_count": 9,
     "metadata": {},
     "output_type": "execute_result"
    }
   ],
   "source": [
    "val kafkaSource: KafkaSource[Transaction] = KafkaSource.builder[Transaction]()\n",
    "  .setBootstrapServers(\"localhost:9092\")\n",
    "  .setTopics(\"transactions\")\n",
    "  .setGroupId(\"events-group\")\n",
    "  .setStartingOffsets(OffsetsInitializer.earliest())\n",
    "  .setValueOnlyDeserializer(new TransactionValueDeserializer)\n",
    "  .build()"
   ]
  },
  {
   "cell_type": "code",
   "execution_count": 10,
   "metadata": {},
   "outputs": [
    {
     "data": {
      "text/plain": [
       "\u001b[36mtransactionStream\u001b[39m: \u001b[32mDataStream\u001b[39m[\u001b[32mTransaction\u001b[39m] = org.apache.flink.streaming.api.scala.DataStream@606741e1"
      ]
     },
     "execution_count": 10,
     "metadata": {},
     "output_type": "execute_result"
    }
   ],
   "source": [
    "val transactionStream: DataStream[Transaction] = env.fromSource(kafkaSource,\n",
    "  WatermarkStrategy.noWatermarks(),\n",
    "  \"Kafka Source\")"
   ]
  },
  {
   "cell_type": "code",
   "execution_count": 11,
   "metadata": {},
   "outputs": [
    {
     "data": {
      "text/plain": [
       "\u001b[36mfilteredTransactionStream\u001b[39m: \u001b[32mDataStream\u001b[39m[\u001b[32mTransaction\u001b[39m] = org.apache.flink.streaming.api.scala.DataStream@25422572"
      ]
     },
     "execution_count": 11,
     "metadata": {},
     "output_type": "execute_result"
    }
   ],
   "source": [
    "val filteredTransactionStream: DataStream[Transaction] = transactionStream\n",
    "  .keyBy(transaction => transaction.id)\n",
    "  .process(new FraudProcessor)"
   ]
  },
  {
   "cell_type": "code",
   "execution_count": 12,
   "metadata": {},
   "outputs": [
    {
     "data": {
      "text/plain": [
       "\u001b[36mres11\u001b[39m: \u001b[32morg\u001b[39m.\u001b[32mapache\u001b[39m.\u001b[32mflink\u001b[39m.\u001b[32mstreaming\u001b[39m.\u001b[32mapi\u001b[39m.\u001b[32mdatastream\u001b[39m.\u001b[32mDataStreamSink\u001b[39m[\u001b[32mTransaction\u001b[39m] = org.apache.flink.streaming.api.datastream.DataStreamSink@20012880"
      ]
     },
     "execution_count": 12,
     "metadata": {},
     "output_type": "execute_result"
    }
   ],
   "source": [
    "filteredTransactionStream.sinkTo(kafkaSink)"
   ]
  },
  {
   "cell_type": "code",
   "execution_count": 13,
   "metadata": {},
   "outputs": [
    {
     "data": {
      "text/plain": [
       "\u001b[36mres12\u001b[39m: \u001b[32morg\u001b[39m.\u001b[32mapache\u001b[39m.\u001b[32mflink\u001b[39m.\u001b[32mstreaming\u001b[39m.\u001b[32mapi\u001b[39m.\u001b[32mdatastream\u001b[39m.\u001b[32mDataStreamSink\u001b[39m[\u001b[32mTransaction\u001b[39m] = org.apache.flink.streaming.api.datastream.DataStreamSink@63cf4b4"
      ]
     },
     "execution_count": 13,
     "metadata": {},
     "output_type": "execute_result"
    }
   ],
   "source": [
    "filteredTransactionStream.print()"
   ]
  },
  {
   "cell_type": "code",
   "execution_count": 14,
   "metadata": {},
   "outputs": [
    {
     "name": "stdout",
     "output_type": "stream",
     "text": [
      "16 with Count 1\n",
      "2 with Count 1\n",
      "25 with Count 1\n",
      "10 with Count 1\n",
      "13 with Count 1\n",
      "8 with Count 1\n",
      "18 with Count 1\n",
      "17 with Count 1\n",
      "14 with Count 1\n",
      "28 with Count 1\n",
      "27 with Count 1\n",
      "12 with Count 1\n",
      "11 with Count 1\n",
      "16> Transaction(2,35,debit)\n",
      "6> Transaction(25,16,credit)\n",
      "1> Transaction(13,64,debit)\n",
      "12> Transaction(27,89,credit)\n",
      "13> Transaction(11,54,debit)\n",
      "11 with Count 2\n",
      "11> Transaction(17,33,debit)\n",
      "26 with Count 1\n",
      "15> Transaction(16,69,credit)\n",
      "16 with Count 2\n",
      "10> Transaction(18,53,debit)\n",
      "18 with Count 2\n",
      "4> Transaction(14,22,debit)\n",
      "2> Transaction(8,51,credit)\n",
      "14 with Count 2\n",
      "10> Transaction(18,17,debit)\n",
      "13> Transaction(11,9,debit)\n",
      "7> Transaction(12,61,debit)\n",
      "9 with Count 1\n",
      "15> Transaction(16,4,credit)\n",
      "7> Transaction(9,73,debit)\n",
      "3> Transaction(28,9,credit)\n",
      "16> Transaction(26,83,credit)\n",
      "9> Transaction(10,37,debit)\n",
      "1 with Count 1\n",
      "27 with Count 2\n",
      "13 with Count 2\n",
      "22 with Count 1\n",
      "6> Transaction(22,35,debit)\n",
      "22 with Count 2\n",
      "1> Transaction(13,77,credit)\n",
      "12> Transaction(27,5,credit)\n",
      "11> Transaction(1,77,debit)\n",
      "27 with Count 3\n",
      "10 with Count 2\n",
      "26 with Count 2\n",
      "29 with Count 1\n",
      "12 with Count 2\n",
      "7 with Count 1\n",
      "11 with Count 3\n",
      "15> Transaction(7,92,debit)\n",
      "20 with Count 1\n",
      "4> Transaction(14,4,debit)\n",
      "10> Transaction(20,3,credit)\n",
      "8 with Count 2\n",
      "20 with Count 2\n",
      "2> Transaction(8,92,credit)\n",
      "14 with Count 3\n",
      "7 with Count 2\n",
      "13> Transaction(11,9,credit)\n",
      "15> Transaction(7,17,credit)\n",
      "16> Transaction(26,66,credit)\n",
      "7> Transaction(12,8,debit)\n",
      "3> Transaction(29,45,debit)\n",
      "9> Transaction(10,94,credit)\n",
      "12> Transaction(27,88,debit)\n",
      "17 with Count 2\n",
      "4 with Count 1\n",
      "6> Transaction(22,44,credit)\n",
      "1> Transaction(4,84,credit)\n",
      "11> Transaction(17,72,credit)\n",
      "10 with Count 3\n",
      "29 with Count 2\n",
      "9> Transaction(10,67,credit)\n",
      "9 with Count 2\n",
      "26 with Count 3\n",
      "7> Transaction(9,36,credit)\n",
      "9 with Count 3\n",
      "7> Transaction(9,31,debit)\n",
      "12 with Count 3\n",
      "7> Transaction(12,41,debit)\n",
      "7 with Count 3\n",
      "11 with Count 4\n",
      "4> Transaction(14,80,credit)\n",
      "14 with Count 4\n",
      "4> Transaction(14,72,debit)\n",
      "14 with Count 5\n",
      "4> Transaction(14,16,debit)\n",
      "8 with Count 3\n",
      "10> Transaction(20,37,debit)\n",
      "20 with Count 3\n",
      "10> Transaction(20,69,credit)\n",
      "18 with Count 3\n",
      "13> Transaction(11,17,credit)\n",
      "15> Transaction(7,2,credit)\n",
      "23 with Count 1\n",
      "9 with Count 4\n",
      "16> Transaction(26,31,debit)\n",
      "10 with Count 4\n",
      "3> Transaction(29,56,debit)\n",
      "1 with Count 2\n",
      "4 with Count 2\n",
      "11> Transaction(1,90,debit)\n",
      "29 with Count 3\n",
      "9> Transaction(10,68,credit)\n",
      "13> Transaction(23,16,debit)\n",
      "10 with Count 5\n",
      "7> Transaction(9,48,credit)\n",
      "2 with Count 2\n",
      "16 with Count 3\n",
      "10> Transaction(18,71,credit)\n",
      "15> Transaction(16,48,credit)\n",
      "18 with Count 4\n",
      "3 with Count 1\n",
      "10> Transaction(18,14,credit)\n",
      "15> Transaction(3,78,credit)\n",
      "3 with Count 2\n",
      "15> Transaction(3,73,credit)\n",
      "3 with Count 3\n",
      "15> Transaction(3,13,credit)\n",
      "3 with Count 4\n",
      "2> Transaction(8,9,credit)\n",
      "15> Transaction(3,42,debit)\n",
      "3 with Count 5\n",
      "18 with Count 5\n",
      "16> Transaction(2,21,debit)\n",
      "9> Transaction(10,29,credit)\n",
      "19 with Count 1\n",
      "10 with Count 6\n",
      "23 with Count 2\n",
      "3> Transaction(29,72,debit)\n",
      "13> Transaction(23,42,debit)\n",
      "1> Transaction(4,88,credit)\n",
      "29 with Count 4\n",
      "3> Transaction(29,15,credit)\n",
      "6 with Count 1\n",
      "3> Transaction(6,85,credit)\n",
      "9> Transaction(10,40,credit)\n",
      "16> Transaction(19,40,credit)\n",
      "6 with Count 2\n",
      "10> Transaction(18,75,credit)\n",
      "15> Transaction(3,26,credit)\n",
      "3> Transaction(6,12,credit)\n",
      "20 with Count 4\n",
      "19 with Count 2\n",
      "6 with Count 3\n",
      "15 with Count 1\n",
      "10> Transaction(20,65,debit)\n",
      "3> Transaction(6,62,debit)\n",
      "16> Transaction(19,71,credit)\n",
      "6 with Count 4\n",
      "19 with Count 3\n",
      "9> Transaction(15,20,credit)\n",
      "3> Transaction(6,43,debit)\n",
      "15 with Count 2\n",
      "6 with Count 5\n",
      "9> Transaction(15,74,credit)\n",
      "3> Transaction(6,71,debit)\n",
      "15 with Count 3\n",
      "6 with Count 6\n",
      "9> Transaction(15,70,debit)\n",
      "16> Transaction(19,87,credit)\n",
      "3> Transaction(6,5,credit)\n",
      "15 with Count 4\n",
      "26 with Count 4\n",
      "9> Transaction(15,60,credit)\n",
      "16> Transaction(26,51,credit)\n",
      "21 with Count 1\n",
      "2 with Count 3\n",
      "9> Transaction(21,59,credit)\n",
      "16> Transaction(2,15,debit)\n",
      "15 with Count 5\n",
      "2 with Count 4\n",
      "9> Transaction(15,75,credit)\n",
      "16> Transaction(2,6,debit)\n",
      "21 with Count 2\n",
      "9> Transaction(21,15,credit)\n",
      "15 with Count 6\n",
      "9> Transaction(15,50,debit)\n"
     ]
    },
    {
     "ename": "",
     "evalue": "",
     "output_type": "error",
     "traceback": [
      "Interrupted!\n  jdk.internal.misc.Unsafe.park(\u001b[32mNative Method\u001b[39m)\n  java.util.concurrent.locks.LockSupport.park(\u001b[32mLockSupport.java\u001b[39m:\u001b[32m194\u001b[39m)\n  java.util.concurrent.CompletableFuture$Signaller.block(\u001b[32mCompletableFuture.java\u001b[39m:\u001b[32m1796\u001b[39m)\n  java.util.concurrent.ForkJoinPool.managedBlock(\u001b[32mForkJoinPool.java\u001b[39m:\u001b[32m3128\u001b[39m)\n  java.util.concurrent.CompletableFuture.waitingGet(\u001b[32mCompletableFuture.java\u001b[39m:\u001b[32m1823\u001b[39m)\n  java.util.concurrent.CompletableFuture.get(\u001b[32mCompletableFuture.java\u001b[39m:\u001b[32m1998\u001b[39m)\n  org.apache.flink.streaming.api.environment.StreamExecutionEnvironment.execute(\u001b[32mStreamExecutionEnvironment.java\u001b[39m:\u001b[32m1989\u001b[39m)\n  org.apache.flink.streaming.api.environment.LocalStreamEnvironment.execute(\u001b[32mLocalStreamEnvironment.java\u001b[39m:\u001b[32m68\u001b[39m)\n  org.apache.flink.streaming.api.environment.StreamExecutionEnvironment.execute(\u001b[32mStreamExecutionEnvironment.java\u001b[39m:\u001b[32m1951\u001b[39m)\n  org.apache.flink.streaming.api.scala.StreamExecutionEnvironment.execute(\u001b[32mStreamExecutionEnvironment.scala\u001b[39m:\u001b[32m858\u001b[39m)\n  ammonite.$sess.cmd13$Helper.<init>(\u001b[32mcmd13.sc\u001b[39m:\u001b[32m1\u001b[39m)\n  ammonite.$sess.cmd13$.<init>(\u001b[32mcmd13.sc\u001b[39m:\u001b[32m7\u001b[39m)\n  ammonite.$sess.cmd13$.<clinit>(\u001b[32mcmd13.sc\u001b[39m:\u001b[32m-1\u001b[39m)"
     ]
    }
   ],
   "source": [
    "env.execute()"
   ]
  },
  {
   "cell_type": "code",
   "execution_count": null,
   "metadata": {},
   "outputs": [],
   "source": []
  }
 ],
 "metadata": {
  "kernelspec": {
   "display_name": "Scala (2.12.15)",
   "language": "scala",
   "name": "scala"
  },
  "language_info": {
   "codemirror_mode": "text/x-scala",
   "file_extension": ".sc",
   "mimetype": "text/x-scala",
   "name": "scala",
   "nbconvert_exporter": "script",
   "version": "2.12.15"
  },
  "orig_nbformat": 4
 },
 "nbformat": 4,
 "nbformat_minor": 2
}
